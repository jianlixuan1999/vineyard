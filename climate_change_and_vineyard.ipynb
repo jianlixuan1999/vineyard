{
 "cells": [
  {
   "cell_type": "markdown",
   "id": "d14c39e7-8d6a-4fec-b6da-46d171362050",
   "metadata": {},
   "source": [
    "## Climate Change and the Optimal Decisions of Vineyard Farmers"
   ]
  },
  {
   "cell_type": "markdown",
   "id": "249d9e79-3ebc-464e-b7ab-146c9f61e178",
   "metadata": {},
   "source": [
    "#### Background\n",
    "\n",
    "Wine industry is highly sensitive to the nuances of climate and terroir, is facing unprecedented challenges due to climate change. And climate change will affect vineyards production through shifts in temperature and precipitation patterns. \n",
    "\n",
    "One response to the climatic shift is \"migration\" -- relocate to a more climatically suitable area. But this strategy might incurr a potential loss of location-specific premium associated with established wine-producing regions.\n",
    "\n",
    "Another possible stretagy is \"adaptation\". This includes introducing new grape varieties, using new techniques, rethinking vineyard orientations, etc. And this will increase the cost of production. \n",
    "\n",
    "#### Problem Statement\n",
    "\n",
    "We aim to employ a Reinforcement Learning (RL) model to optimize strategies in the context of climate change. The model is designed to operate under varying temperature scenarios, with each scenario influencing the vineyard's state and the effectiveness of potential adaptation actions.  \n",
    "\n",
    "The RL model framework involves:\n",
    "\n",
    "__1.Space State ($S$):__\n",
    "Defined by a range of temperature scenarios and other relevant vineyard conditions. Each state $s\\in S$ represents specific environmental and climatic conditions.\n",
    "\n",
    "__2.Action Space($A$):__\n",
    "\n",
    "__3.Object Function:__\n",
    "\n",
    "\n",
    "\\begin{eqnarray}\n",
    "\\text{minimize}~\\mathcal{C}_T &=& \\sum{i\\in{1,\\dotsc,n}}c_{i}x_{i} \\\\\n",
    "\\text{subject to}~\\sum_{i\\in{1,\\dotsc,n}}p_{i}x_{i} & \\leq & P_{\\text{max}}\\\\\n",
    "\\text{and}~\\mathbf{C}\\mathbf{x} & \\leq & \\mathbf{b} \\\\\n",
    "\\text{and}~x_{i}&\\in&{0,1}\\qquad{i=1,2,\\dots,n}\n",
    "\\end{eqnarray}\n",
    "\n",
    "In this model:\n",
    "\n",
    "* $c_{i}\\geq 0$ denotes the cost of adopting strategy$i$. \n",
    "* $p_{i}$ denotes the potential impact on the location premium by adopting strategy$i$, with $P_{max}$ representing the maximum permissible impact on the premium.\n",
    "* $x_{i}\\in{0,1}$ represents the binary decision of adopting or not adopting strategy$i$. \n",
    "\n",
    "\n",
    "#### List of Tasks\n",
    "* __Task 1__: Specify the vectors\n",
    "* __Task 2__: "
   ]
  },
  {
   "cell_type": "markdown",
   "id": "9ebba332-bc86-43a5-b1ff-f0cbd11213bf",
   "metadata": {},
   "source": [
    "### Setup"
   ]
  },
  {
   "cell_type": "code",
   "execution_count": 1,
   "id": "c70b150f-24ba-468d-b6f3-86c074b2583d",
   "metadata": {
    "tags": []
   },
   "outputs": [],
   "source": [
    "include(\"CodeLib.jl\");"
   ]
  },
  {
   "cell_type": "code",
   "execution_count": 2,
   "id": "188f5b57-d428-458e-a891-51a2c0690d44",
   "metadata": {
    "tags": []
   },
   "outputs": [],
   "source": [
    "using Plots\n",
    "using Colors"
   ]
  },
  {
   "cell_type": "markdown",
   "id": "5a24cc9a-2fcc-40ab-86da-2efcdebef9c6",
   "metadata": {},
   "source": [
    "## Task 1: Specify the Vectors\n",
    "\n",
    "In this problem, we will choose Pinot Grins as baseline.\n",
    "\n",
    "The optimal temperature for Pinot Grins to grow is between 13-15 celsius degree (55.4 - 59 Fahrenheit). \n",
    "\n",
    "There are several strategies can be taken\n",
    "\n",
    "### Adaptation Strategies\n",
    "\n",
    "__1.__ Adjust harvest dates\n",
    "\n",
    "* Estimated Cost: $0 per acre\n",
    "* Temperature Offset: 1 per 14 days - but date adjustment cannot be larger than 30 days\n",
    "\n",
    "__2.__ Switch to another cultivar (assume from Pinot Grins to Cabernet Sauvignon)\n",
    "\n",
    "* Estimated Cost: $824.6 per acre (the yield per harvested acre for Pinot Grins is 4.74, and price pre ton is 1800 -> 8532 per acre; the yield per harvested acre for Pinot Grins is 3.01, and price pre ton is 2560 -> 7705.6 per acre)\n",
    "* Temperature Offset: 9 the optimal temperature for Cabernet Sauvignon is 16.5-20 (61.7-68)\n",
    "\n",
    "__3.__ Production technology -- full-capacity watering\n",
    "\n",
    "* Estimated Cost: 500-1200 USD per acre\n",
    "* Temperature Offset: 2-4\n",
    "\n",
    "__4.__ Production technology -- canopy manipulation\n",
    "\n",
    "* Estimated Cost: 300-800 USD per acre\n",
    "* Temperature Offset: 1-3\n",
    "\n",
    "__5.__ Production technology -- changing row orientation\n",
    "\n",
    "* Estimated Cost: 5000-10000 USD per acre (one-time cost)\n",
    "* Temperature Offset: 2-4\n",
    "\n",
    "\n",
    "### Migration\n",
    "\n",
    "__6.__ Northward movement\n",
    "\n",
    "* Estimated Cost (premium loss): $6930 per acre\n",
    "* Temperature Offset: will reach the optimal temperature"
   ]
  },
  {
   "cell_type": "code",
   "execution_count": 3,
   "id": "53ade3c1-1e85-4101-a977-a6c012d057f2",
   "metadata": {
    "tags": []
   },
   "outputs": [
    {
     "data": {
      "text/plain": [
       "Dict{Int64, String} with 6 entries:\n",
       "  5 => \"ChangeRowOrientation\"\n",
       "  4 => \"CanopyManipulation\"\n",
       "  6 => \"NorthwardMovement\"\n",
       "  2 => \"ChangeVineType\"\n",
       "  3 => \"FullCapacityWatering\"\n",
       "  1 => \"HarvestDate\""
      ]
     },
     "execution_count": 3,
     "metadata": {},
     "output_type": "execute_result"
    }
   ],
   "source": [
    "# build a model of the states (temperature)\n",
    "number_of_rows = 121 # temperature range from 0 - 120 fahrenheit\n",
    "number_of_cols = 121\n",
    "\n",
    "nstates = (number_of_rows*number_of_cols);\n",
    "min_temp = 0\n",
    "max_temp = 120\n",
    "min_temp_range = 0:1:120\n",
    "max_temp_range = 0:1:120 \n",
    "𝒮 = [(min_temp, max_temp) for min_temp in min_temp_range for max_temp in max_temp_range if min_temp <= max_temp]\n",
    "\n",
    "nactions = 6\n",
    "𝒜 = 1:nactions\n",
    "action_mapping = Dict(1 => \"HarvestDate\", 2 => \"ChangeVineType\", 3 => \"FullCapacityWatering\", \n",
    "                      4 => \"CanopyManipulation\", 5 => \"ChangeRowOrientation\", 6 => \"NorthwardMovement\")"
   ]
  },
  {
   "cell_type": "code",
   "execution_count": 4,
   "id": "989fd011-965e-4249-bc14-96a6a079ebcf",
   "metadata": {},
   "outputs": [
    {
     "data": {
      "text/plain": [
       "59"
      ]
     },
     "execution_count": 4,
     "metadata": {},
     "output_type": "execute_result"
    }
   ],
   "source": [
    "# define costs and temperature offsets\n",
    "action_costs = [550.00, 824.60, 750.00, 550.00, 7500.00, 6930.00] \n",
    "# temperature_offsets = [1, 9.00, 3.00, 2.00, 3.00, 100.00]\n",
    "\n",
    "default_reward = 0.00\n",
    "\n",
    "current_temp_min = 60\n",
    "current_temp_max = 70\n",
    "\n",
    "optimal_temp_min = 55\n",
    "optimal_temp_max = 59"
   ]
  },
  {
   "cell_type": "code",
   "execution_count": 5,
   "id": "ee64e66b-0b27-41aa-8581-99732d809930",
   "metadata": {
    "tags": []
   },
   "outputs": [
    {
     "data": {
      "text/plain": [
       "Set{Tuple{Int64, Int64}} with 1 element:\n",
       "  (55, 59)"
      ]
     },
     "execution_count": 5,
     "metadata": {},
     "output_type": "execute_result"
    }
   ],
   "source": [
    "# define specific rewards\n",
    "optimal_condition_reward = 100000.0\n",
    "suboptimal_condition_reward = -5000.0\n",
    "\n",
    "# function to adjust rewards based on strategy cost and temperature offset\n",
    "function adjust_reward(state::Tuple{Int, Int}, action::Int)\n",
    "    cost = action_costs[action]\n",
    "\n",
    "    # Determine if the state meets the optimal temperature criteria\n",
    "    if state[1] <= optimal_temp_max || state[2] >= optimal_temp_min\n",
    "        base_reward = optimal_condition_reward\n",
    "    else\n",
    "        base_reward = suboptimal_condition_reward\n",
    "    end\n",
    "\n",
    "    # Calculate the final reward\n",
    "    final_reward = base_reward - cost\n",
    "    return final_reward\n",
    "end\n",
    "\n",
    "# set up rewards\n",
    "rewards = Dict{Tuple{Tuple{Int, Int}, Int}, Float64}()\n",
    "for state in 𝒮\n",
    "    for action in 𝒜\n",
    "        reward = adjust_reward(state, action)\n",
    "        rewards[(state, action)] = reward\n",
    "    end\n",
    "end\n",
    "\n",
    "# set up absorbing state\n",
    "absorbing_state_set = Set{Tuple{Int, Int}}()\n",
    "push!(absorbing_state_set, (optimal_temp_min,optimal_temp_max))"
   ]
  },
  {
   "cell_type": "code",
   "execution_count": 6,
   "id": "ef6e0e3d-4004-4183-bb2e-4c3270fe9423",
   "metadata": {
    "tags": []
   },
   "outputs": [],
   "source": [
    "# rewards"
   ]
  },
  {
   "cell_type": "code",
   "execution_count": 7,
   "id": "37113a23-05ac-4c0b-b1cb-0b351ef95803",
   "metadata": {
    "tags": []
   },
   "outputs": [],
   "source": [
    "# function rbf(x::Tuple{Tuple{Int64, Int64}, Tuple{Int64, Int64}},y::Tuple{Int,Int}; σ = 1.0)::Float64\n",
    "#     d = sqrt((x[1] - y[1])^2 + (x[2] - y[2])^2);\n",
    "#     return exp(-d/(2*σ^2))\n",
    "# end;\n",
    "\n",
    "# σ = 1.0\n",
    "\n",
    "# # reward shaping\n",
    "# is_reward_shaping_on = true;\n",
    "\n",
    "# if (is_reward_shaping_on == true)\n",
    "#     for s in 𝒮\n",
    "#         for s′ in 𝒮\n",
    "#            coordinate = (s,s′);\n",
    "#             if (haskey(rewards, coordinate) == false && in(coordinate,absorbing_state_set) == false)\n",
    "#                 rewards[coordinate] = default_reward + optimal_condition_reward*rbf(coordinate, (optimal_temp_min,optimal_temp_max), σ = σ);\n",
    "#             end\n",
    "#         end\n",
    "#     end\n",
    "# end"
   ]
  },
  {
   "cell_type": "code",
   "execution_count": 8,
   "id": "eaceca0c-64a0-4dca-ba25-6e21e9c339cd",
   "metadata": {
    "tags": []
   },
   "outputs": [],
   "source": [
    "world_model = build(MyRectangularGridWorldModel, (\n",
    "        nrows=number_of_rows, ncols=number_of_cols, rewards = rewards, actions = 𝒜 ));"
   ]
  },
  {
   "cell_type": "code",
   "execution_count": 9,
   "id": "e0d3499d-080c-460c-88e9-c367e3110a63",
   "metadata": {
    "tags": []
   },
   "outputs": [
    {
     "data": {
      "text/plain": [
       "Dict{Int64, Tuple{Int64, Int64}} with 6 entries:\n",
       "  5 => (-3, -3)\n",
       "  4 => (-2, -2)\n",
       "  6 => (-5, -11)\n",
       "  2 => (-9, -9)\n",
       "  3 => (-3, -3)\n",
       "  1 => (-1, -1)"
      ]
     },
     "execution_count": 9,
     "metadata": {},
     "output_type": "execute_result"
    }
   ],
   "source": [
    "world_model.moves"
   ]
  },
  {
   "cell_type": "code",
   "execution_count": 10,
   "id": "b8cb3dfe-92a5-43d4-8b52-1008022768df",
   "metadata": {
    "tags": []
   },
   "outputs": [],
   "source": [
    "# using Pkg\n",
    "# Pkg.add(\"Plots\")"
   ]
  },
  {
   "cell_type": "code",
   "execution_count": 11,
   "id": "1fe8a624-49a2-49be-ab76-8f8f3e388e69",
   "metadata": {
    "tags": []
   },
   "outputs": [],
   "source": [
    "# rewards_array = zeros(121, 121)  # Initialize an array filled with zeros\n",
    "# for ((x, y), reward) in world_model.rewards\n",
    "#     if x in 1:121 && y in 1:121\n",
    "#         rewards_array[x, y] = reward  # Assign the reward using separate indices\n",
    "#     end\n",
    "\n",
    "# end\n",
    "# using Plots\n",
    "# heatmap(rewards_array, color=:viridis, aspect_ratio=:equal, \n",
    "#         xlabel=\"X-axis\", ylabel=\"Y-axis\", title=\"Rewards Heatmap\")"
   ]
  },
  {
   "cell_type": "code",
   "execution_count": 12,
   "id": "058ea4df-da7c-471f-bb60-933495f40c8b",
   "metadata": {
    "tags": []
   },
   "outputs": [],
   "source": [
    "# rewards_array = zeros(121, 121)  # Initialize an array filled with zeros\n",
    "# for ((x, y), reward) in world_model.rewards\n",
    "#     if x in 1:121 && y in 1:121\n",
    "#         rewards_array[x, y] = reward  # Assign the reward using separate indices\n",
    "#     end\n",
    "\n",
    "# end\n",
    "# using Plots\n",
    "# heatmap(rewards_array, color=:viridis, aspect_ratio=:equal, \n",
    "#         xlabel=\"X-axis\", ylabel=\"Y-axis\", title=\"Rewards Heatmap\")"
   ]
  },
  {
   "cell_type": "markdown",
   "id": "a11e5846-a665-45ed-889e-5a08e8b713a3",
   "metadata": {},
   "source": [
    "## Task 2: Q-learning agent"
   ]
  },
  {
   "cell_type": "code",
   "execution_count": 13,
   "id": "a9da8a90-28ca-4565-b55b-4f82043d7481",
   "metadata": {
    "tags": []
   },
   "outputs": [],
   "source": [
    "α = 0.6;  # learning rate\n",
    "γ = 0.95; # discount rate\n",
    "nstates = (number_of_rows*number_of_cols);\n",
    "agent_model = build(MyQLearningAgentModel, (\n",
    "    states = 𝒮,\n",
    "    actions = 𝒜,\n",
    "    α = α,\n",
    "    γ = γ,\n",
    "    Q = zeros(nstates,nactions)\n",
    "));"
   ]
  },
  {
   "cell_type": "code",
   "execution_count": 14,
   "id": "08204675-0559-4a94-9bd0-2839598cb72c",
   "metadata": {
    "tags": []
   },
   "outputs": [],
   "source": [
    "# agent_model.Q"
   ]
  },
  {
   "cell_type": "markdown",
   "id": "13711e5c-480a-4e73-917b-aae4273e251b",
   "metadata": {},
   "source": [
    "## Task 3: Simulate and visualize"
   ]
  },
  {
   "cell_type": "code",
   "execution_count": 15,
   "id": "fc9c96d8-fea4-4082-ae28-ee101309ca5f",
   "metadata": {
    "tags": []
   },
   "outputs": [],
   "source": [
    "startstate = (current_temp_min,current_temp_max); # start position\n",
    "number_of_episodes = 20;\n",
    "number_of_iterations = 100;"
   ]
  },
  {
   "cell_type": "code",
   "execution_count": 16,
   "id": "9f3bdd69-3d8b-4510-ab64-df5308ea48f9",
   "metadata": {
    "tags": []
   },
   "outputs": [],
   "source": [
    "my_Q_dictionary = Dict{Tuple{Int,Int}, Array{Float64,2}}();\n",
    "coordinate = startstate;\n",
    "for i ∈ 1:number_of_episodes\n",
    "    # run an episode, and grab the Q\n",
    "    result = simulate(agent_model, world_model, coordinate, number_of_iterations, ϵ = 0.7);\n",
    "    agent_model.Q = result.Q;\n",
    "end\n",
    "my_Q_dictionary[coordinate] = agent_model.Q;"
   ]
  },
  {
   "cell_type": "code",
   "execution_count": 17,
   "id": "32983b46-bb62-4df8-acb1-fa1e636f3fc8",
   "metadata": {
    "tags": []
   },
   "outputs": [
    {
     "data": {
      "text/plain": [
       "Dict{Tuple{Int64, Int64}, Matrix{Float64}} with 1 entry:\n",
       "  (60, 70) => [-1.97542e13 -1.97456e13 … -1.97526e13 -1.97466e13; 0.0 0.0 … 0.0…"
      ]
     },
     "execution_count": 17,
     "metadata": {},
     "output_type": "execute_result"
    }
   ],
   "source": [
    "my_Q_dictionary"
   ]
  },
  {
   "cell_type": "code",
   "execution_count": 18,
   "id": "60ee0309-4dd1-48d3-bcde-4d2be15a3791",
   "metadata": {},
   "outputs": [],
   "source": [
    "Q = my_Q_dictionary[startstate];\n",
    "my_π = policy(Q);"
   ]
  },
  {
   "cell_type": "code",
   "execution_count": 19,
   "id": "95969c67-faec-40e7-be6f-c480698ffc41",
   "metadata": {
    "tags": []
   },
   "outputs": [
    {
     "data": {
      "text/plain": [
       "14641×6 Matrix{Float64}:\n",
       " -1.97542e13  -1.97456e13  -1.97431e13  -1.9746e13   -1.97526e13  -1.97466e13\n",
       "  0.0          0.0          0.0          0.0          0.0          0.0\n",
       "  0.0          0.0          0.0          0.0          0.0          0.0\n",
       "  0.0          0.0          0.0          0.0          0.0          0.0\n",
       " -1.16678e13  -1.19749e13  -1.16697e13  -1.19908e13  -1.2007e13   -1.17162e13\n",
       "  0.0          0.0          0.0          0.0          0.0          0.0\n",
       "  0.0          0.0          0.0          0.0          0.0          0.0\n",
       "  0.0          0.0          0.0          0.0          0.0          0.0\n",
       "  0.0          0.0          0.0          0.0          0.0          0.0\n",
       "  0.0          0.0          0.0          0.0          0.0          0.0\n",
       " -9.34243e12  -9.35256e12  -9.34698e12  -9.18148e12  -9.21247e12  -9.42391e12\n",
       "  0.0          0.0          0.0          0.0          0.0          0.0\n",
       "  0.0          0.0          0.0          0.0          0.0          0.0\n",
       "  ⋮                                                                ⋮\n",
       "  0.0          0.0          0.0          0.0          0.0          0.0\n",
       "  0.0          0.0          0.0          0.0          0.0          0.0\n",
       "  0.0          0.0          0.0          0.0          0.0          0.0\n",
       "  0.0          0.0          0.0          0.0          0.0          0.0\n",
       "  0.0          0.0          0.0          0.0          0.0          0.0\n",
       "  0.0          0.0          0.0          0.0          0.0          0.0\n",
       "  0.0          0.0          0.0          0.0          0.0          0.0\n",
       "  0.0          0.0          0.0          0.0          0.0          0.0\n",
       "  0.0          0.0          0.0          0.0          0.0          0.0\n",
       "  0.0          0.0          0.0          0.0          0.0          0.0\n",
       "  0.0          0.0          0.0          0.0          0.0          0.0\n",
       "  0.0          0.0          0.0          0.0          0.0          0.0"
      ]
     },
     "execution_count": 19,
     "metadata": {},
     "output_type": "execute_result"
    }
   ],
   "source": [
    "Q"
   ]
  },
  {
   "cell_type": "code",
   "execution_count": null,
   "id": "ad47beb5-dbe7-43c4-9e3d-48bcdb5c2e1c",
   "metadata": {},
   "outputs": [],
   "source": []
  }
 ],
 "metadata": {
  "kernelspec": {
   "display_name": "Julia 1.9.3",
   "language": "julia",
   "name": "julia-1.9"
  },
  "language_info": {
   "file_extension": ".jl",
   "mimetype": "application/julia",
   "name": "julia",
   "version": "1.9.3"
  }
 },
 "nbformat": 4,
 "nbformat_minor": 5
}
